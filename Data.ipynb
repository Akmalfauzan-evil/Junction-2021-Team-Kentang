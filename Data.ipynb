{
 "cells": [
  {
   "cell_type": "code",
   "metadata": {
    "tags": [],
    "cell_id": "00000-90277784-1ba1-4006-9121-93d8c68dab47",
    "deepnote_to_be_reexecuted": false,
    "source_hash": "a9bb4b33",
    "execution_start": 1637418536044,
    "execution_millis": 188,
    "deepnote_cell_type": "code"
   },
   "source": "import pandas as pd\nimport numpy as np\nimport scipy\nimport matplotlib as plt\nimport os\nimport glob\nimport csv",
   "outputs": [],
   "execution_count": null
  },
  {
   "cell_type": "code",
   "source": "avg_electric_use = 14969 #https://www.worlddata.info/europe/finland/energy-consumption.php#:~:text=of%20electric%20energy%20per%20year,an%20average%20of%2014%2C969%20kWh.\navg_electricity_price = 17.67e-2 #https://www.statista.com/statistics/418122/electricity-prices-for-households-in-finland/#:~:text=This%20statistic%20shows%20the%20electricity,17.67%20euro%20cents%20per%20kWh.\navg_electricity_bill = avg_electric_use * avg_electricity_price\nprint(\"avg_electricity_bill\", avg_electricity_bill)\navg_water_use = 120*365\navg_water_price = 12.30e-3 #https://www.reddit.com/r/Finland/comments/m70zr9/water_price_in_espoo/\navg_water_bill = avg_water_use * avg_water_price\nprint(\"avg_water_bill\", avg_water_bill)\navg_salary = 54793 #https://www.averagesalarysurvey.com/finland\navg_elecwaterbill_salary_ratio = (avg_water_bill + avg_electricity_bill)/avg_salary\nprint(\"avg_elecwaterbill_salary_ratio\", avg_elecwaterbill_salary_ratio)",
   "metadata": {
    "tags": [],
    "cell_id": "00007-433b761e-7c45-48d3-b446-96ef1c18d9b7",
    "deepnote_to_be_reexecuted": false,
    "source_hash": "e882b071",
    "execution_start": 1637418536242,
    "execution_millis": 19,
    "deepnote_cell_type": "code"
   },
   "outputs": [
    {
     "name": "stdout",
     "text": "avg_electricity_bill 2645.0223\navg_water_bill 538.74\navg_elecwaterbill_salary_ratio 0.0581052743963645\n",
     "output_type": "stream"
    }
   ],
   "execution_count": null
  },
  {
   "cell_type": "code",
   "source": "data_list = os.listdir('data')\nprint(data_list)\n",
   "metadata": {
    "tags": [],
    "cell_id": "00001-0de425f7-57d2-427f-bca6-75eb39997051",
    "deepnote_to_be_reexecuted": false,
    "source_hash": "615f9601",
    "execution_start": 1637418536264,
    "execution_millis": 7,
    "deepnote_cell_type": "code"
   },
   "outputs": [
    {
     "name": "stdout",
     "text": "['19_4', '15_2', '12_3', '14_2', '18_4', '2_2', '16_2', '10_3', '5_4', '3_2', 'Concat_data', '1_4', '0_3', '11_1', '6_2', '4_2', '7_1', '13_1', '9_3', '17_3', '8_3']\n",
     "output_type": "stream"
    }
   ],
   "execution_count": null
  },
  {
   "cell_type": "code",
   "source": "people = [0 for i in range(len(data_list))]\ntotal_people = 0 \nfor data in data_list:\n    if data == 'Concat_data':\n        continue\n    x = data.split(\"_\")\n    people[int(x[0])] = int(x[1])    \n    total_people = total_people + people[int(x[0])]\n\nprint(people)\nprint(total_people)",
   "metadata": {
    "tags": [],
    "cell_id": "00002-e0b835f7-db27-4d94-9f53-fb433007af50",
    "deepnote_to_be_reexecuted": false,
    "source_hash": "48d931c",
    "execution_start": 1637418536319,
    "execution_millis": 0,
    "deepnote_cell_type": "code"
   },
   "outputs": [
    {
     "name": "stdout",
     "text": "[3, 4, 2, 2, 2, 4, 2, 1, 3, 3, 3, 1, 3, 1, 2, 2, 2, 3, 4, 4, 0]\n51\n",
     "output_type": "stream"
    }
   ],
   "execution_count": null
  },
  {
   "cell_type": "code",
   "source": "test = pd.read_csv('data/0_3/Hydractiva_shower.csv')\ntest.head()",
   "metadata": {
    "tags": [],
    "cell_id": "00004-eb51f000-15ed-430e-8cdc-1f1d6d1baedc",
    "deepnote_to_be_reexecuted": false,
    "source_hash": "ce1bf38a",
    "execution_start": 1637418536320,
    "execution_millis": 40,
    "deepnote_cell_type": "code"
   },
   "outputs": [
    {
     "output_type": "execute_result",
     "execution_count": 5,
     "data": {
      "application/vnd.deepnote.dataframe.v2+json": {
       "row_count": 5,
       "column_count": 5,
       "columns": [
        {
         "name": "Consumption",
         "dtype": "float64",
         "stats": {
          "unique_count": 5,
          "nan_count": 0,
          "min": "11.569686",
          "max": "56.70452",
          "histogram": [
           {
            "bin_start": 11.569686,
            "bin_end": 16.083169400000003,
            "count": 1
           },
           {
            "bin_start": 16.083169400000003,
            "bin_end": 20.5966528,
            "count": 0
           },
           {
            "bin_start": 20.5966528,
            "bin_end": 25.1101362,
            "count": 2
           },
           {
            "bin_start": 25.1101362,
            "bin_end": 29.6236196,
            "count": 0
           },
           {
            "bin_start": 29.6236196,
            "bin_end": 34.137102999999996,
            "count": 0
           },
           {
            "bin_start": 34.137102999999996,
            "bin_end": 38.6505864,
            "count": 1
           },
           {
            "bin_start": 38.6505864,
            "bin_end": 43.16406980000001,
            "count": 0
           },
           {
            "bin_start": 43.16406980000001,
            "bin_end": 47.677553200000006,
            "count": 0
           },
           {
            "bin_start": 47.677553200000006,
            "bin_end": 52.191036600000004,
            "count": 0
           },
           {
            "bin_start": 52.191036600000004,
            "bin_end": 56.70452,
            "count": 1
           }
          ]
         }
        },
        {
         "name": "Temp",
         "dtype": "float64",
         "stats": {
          "unique_count": 5,
          "nan_count": 0,
          "min": "35.99203",
          "max": "40.37769",
          "histogram": [
           {
            "bin_start": 35.99203,
            "bin_end": 36.430596,
            "count": 1
           },
           {
            "bin_start": 36.430596,
            "bin_end": 36.869162,
            "count": 0
           },
           {
            "bin_start": 36.869162,
            "bin_end": 37.307728,
            "count": 0
           },
           {
            "bin_start": 37.307728,
            "bin_end": 37.746294,
            "count": 0
           },
           {
            "bin_start": 37.746294,
            "bin_end": 38.18486,
            "count": 0
           },
           {
            "bin_start": 38.18486,
            "bin_end": 38.623426,
            "count": 0
           },
           {
            "bin_start": 38.623426,
            "bin_end": 39.061992000000004,
            "count": 1
           },
           {
            "bin_start": 39.061992000000004,
            "bin_end": 39.500558,
            "count": 1
           },
           {
            "bin_start": 39.500558,
            "bin_end": 39.939124,
            "count": 1
           },
           {
            "bin_start": 39.939124,
            "bin_end": 40.37769,
            "count": 1
           }
          ]
         }
        },
        {
         "name": "FlowTime",
         "dtype": "float64",
         "stats": {
          "unique_count": 5,
          "nan_count": 0,
          "min": "56.762955",
          "max": "287.90256",
          "histogram": [
           {
            "bin_start": 56.762955,
            "bin_end": 79.8769155,
            "count": 1
           },
           {
            "bin_start": 79.8769155,
            "bin_end": 102.99087599999999,
            "count": 0
           },
           {
            "bin_start": 102.99087599999999,
            "bin_end": 126.1048365,
            "count": 1
           },
           {
            "bin_start": 126.1048365,
            "bin_end": 149.218797,
            "count": 1
           },
           {
            "bin_start": 149.218797,
            "bin_end": 172.33275749999999,
            "count": 0
           },
           {
            "bin_start": 172.33275749999999,
            "bin_end": 195.446718,
            "count": 0
           },
           {
            "bin_start": 195.446718,
            "bin_end": 218.5606785,
            "count": 1
           },
           {
            "bin_start": 218.5606785,
            "bin_end": 241.67463899999998,
            "count": 0
           },
           {
            "bin_start": 241.67463899999998,
            "bin_end": 264.7885995,
            "count": 0
           },
           {
            "bin_start": 264.7885995,
            "bin_end": 287.90256,
            "count": 1
           }
          ]
         }
        },
        {
         "name": "Power_Consumption",
         "dtype": "float64",
         "stats": {
          "unique_count": 5,
          "nan_count": 0,
          "min": "0.4183294",
          "max": "2.2786624",
          "histogram": [
           {
            "bin_start": 0.4183294,
            "bin_end": 0.6043627,
            "count": 1
           },
           {
            "bin_start": 0.6043627,
            "bin_end": 0.7903960000000001,
            "count": 0
           },
           {
            "bin_start": 0.7903960000000001,
            "bin_end": 0.9764293,
            "count": 1
           },
           {
            "bin_start": 0.9764293,
            "bin_end": 1.1624626,
            "count": 1
           },
           {
            "bin_start": 1.1624626,
            "bin_end": 1.3484959,
            "count": 0
           },
           {
            "bin_start": 1.3484959,
            "bin_end": 1.5345292,
            "count": 1
           },
           {
            "bin_start": 1.5345292,
            "bin_end": 1.7205625,
            "count": 0
           },
           {
            "bin_start": 1.7205625,
            "bin_end": 1.9065958,
            "count": 0
           },
           {
            "bin_start": 1.9065958,
            "bin_end": 2.0926291000000004,
            "count": 0
           },
           {
            "bin_start": 2.0926291000000004,
            "bin_end": 2.2786624,
            "count": 1
           }
          ]
         }
        },
        {
         "name": "TimeStamp",
         "dtype": "object",
         "stats": {
          "unique_count": 5,
          "nan_count": 0,
          "categories": [
           {
            "name": "2020-01-01T09:00:18",
            "count": 1
           },
           {
            "name": "2020-01-01T10:50:50",
            "count": 1
           },
           {
            "name": "3 others",
            "count": 3
           }
          ]
         }
        },
        {
         "name": "_deepnote_index_column",
         "dtype": "int64"
        }
       ],
       "rows_top": [
        {
         "Consumption": 11.569686,
         "Temp": 35.99203,
         "FlowTime": 56.762955,
         "Power_Consumption": 0.4183294,
         "TimeStamp": "2020-01-01T09:00:18",
         "_deepnote_index_column": 0
        },
        {
         "Consumption": 56.70452,
         "Temp": 39.444153,
         "FlowTime": 287.90256,
         "Power_Consumption": 2.2786624,
         "TimeStamp": "2020-01-01T10:50:50",
         "_deepnote_index_column": 1
        },
        {
         "Consumption": 36.05037,
         "Temp": 39.709408,
         "FlowTime": 215.50906,
         "Power_Consumption": 1.4598348,
         "TimeStamp": "2020-01-01T23:34:59",
         "_deepnote_index_column": 2
        },
        {
         "Consumption": 24.071253,
         "Temp": 40.37769,
         "FlowTime": 148.69801,
         "Power_Consumption": 0.99351615,
         "TimeStamp": "2020-01-03T23:47:24",
         "_deepnote_index_column": 3
        },
        {
         "Consumption": 22.413982,
         "Temp": 38.95654,
         "FlowTime": 103.67807,
         "Power_Consumption": 0.88795143,
         "TimeStamp": "2020-01-04T06:39:43",
         "_deepnote_index_column": 4
        }
       ],
       "rows_bottom": null
      },
      "text/plain": "   Consumption       Temp    FlowTime  Power_Consumption            TimeStamp\n0    11.569686  35.992030   56.762955           0.418329  2020-01-01T09:00:18\n1    56.704520  39.444153  287.902560           2.278662  2020-01-01T10:50:50\n2    36.050370  39.709408  215.509060           1.459835  2020-01-01T23:34:59\n3    24.071253  40.377690  148.698010           0.993516  2020-01-03T23:47:24\n4    22.413982  38.956540  103.678070           0.887951  2020-01-04T06:39:43",
      "text/html": "<div>\n<style scoped>\n    .dataframe tbody tr th:only-of-type {\n        vertical-align: middle;\n    }\n\n    .dataframe tbody tr th {\n        vertical-align: top;\n    }\n\n    .dataframe thead th {\n        text-align: right;\n    }\n</style>\n<table border=\"1\" class=\"dataframe\">\n  <thead>\n    <tr style=\"text-align: right;\">\n      <th></th>\n      <th>Consumption</th>\n      <th>Temp</th>\n      <th>FlowTime</th>\n      <th>Power_Consumption</th>\n      <th>TimeStamp</th>\n    </tr>\n  </thead>\n  <tbody>\n    <tr>\n      <th>0</th>\n      <td>11.569686</td>\n      <td>35.992030</td>\n      <td>56.762955</td>\n      <td>0.418329</td>\n      <td>2020-01-01T09:00:18</td>\n    </tr>\n    <tr>\n      <th>1</th>\n      <td>56.704520</td>\n      <td>39.444153</td>\n      <td>287.902560</td>\n      <td>2.278662</td>\n      <td>2020-01-01T10:50:50</td>\n    </tr>\n    <tr>\n      <th>2</th>\n      <td>36.050370</td>\n      <td>39.709408</td>\n      <td>215.509060</td>\n      <td>1.459835</td>\n      <td>2020-01-01T23:34:59</td>\n    </tr>\n    <tr>\n      <th>3</th>\n      <td>24.071253</td>\n      <td>40.377690</td>\n      <td>148.698010</td>\n      <td>0.993516</td>\n      <td>2020-01-03T23:47:24</td>\n    </tr>\n    <tr>\n      <th>4</th>\n      <td>22.413982</td>\n      <td>38.956540</td>\n      <td>103.678070</td>\n      <td>0.887951</td>\n      <td>2020-01-04T06:39:43</td>\n    </tr>\n  </tbody>\n</table>\n</div>"
     },
     "metadata": {}
    }
   ],
   "execution_count": null
  },
  {
   "cell_type": "code",
   "source": "path_dishwasher = 'data/*/Dishwasher.csv'\npath_shower = 'data/*/Hydractiva_shower.csv'\npath_kitchen = 'data/*/Kitchen_optima_faucet.csv'\npath_washing = 'data/*/Washing_machine.csv'\npath_faucet = 'data/*/Optima_faucet.csv'",
   "metadata": {
    "tags": [],
    "cell_id": "00003-71dd5e8c-adc3-492a-8272-c9cdb277828c",
    "deepnote_to_be_reexecuted": false,
    "source_hash": "1759be5b",
    "execution_start": 1637418536359,
    "execution_millis": 4,
    "deepnote_cell_type": "code"
   },
   "outputs": [],
   "execution_count": null
  },
  {
   "cell_type": "code",
   "source": "all_files_dishwasher = glob.glob(path_dishwasher)\nall_files_shower = glob.glob(path_shower)\nall_files_kitchen = glob.glob(path_kitchen)\nall_files_washing = glob.glob(path_washing)\nall_files_faucet = glob.glob(path_faucet)\n\nli_dw = []\nli_sw = []\nli_kc = []\nli_wm = []\nli_fc = []\n\nfor filename in all_files_dishwasher:\n    df = pd.read_csv(filename, index_col=None, header=0)\n    df['TimeStamp'] = pd.to_datetime(df['TimeStamp'], format='%Y-%m-%dT%H:%M:%S')\n    li_dw.append(df)\n\nfor filename in all_files_shower:\n    df = pd.read_csv(filename, index_col=None, header=0)\n    df['TimeStamp'] = pd.to_datetime(df['TimeStamp'], format='%Y-%m-%dT%H:%M:%S')\n    li_sw.append(df)\n\nfor filename in all_files_kitchen:\n    df = pd.read_csv(filename, index_col=None, header=0)\n    df['TimeStamp'] = pd.to_datetime(df['TimeStamp'], format='%Y-%m-%dT%H:%M:%S')\n    li_kc.append(df)\n\nfor filename in all_files_washing:\n    df = pd.read_csv(filename, index_col=None, header=0)\n    df['TimeStamp'] = pd.to_datetime(df['TimeStamp'], format='%Y-%m-%dT%H:%M:%S')\n    li_wm.append(df)\n\nfor filename in all_files_faucet:\n    df = pd.read_csv(filename, index_col=None, header=0)\n    df['TimeStamp'] = pd.to_datetime(df['TimeStamp'], format='%Y-%m-%dT%H:%M:%S', errors='coerce')\n    li_fc.append(df)\n\nframe_dw = pd.concat(li_dw, axis=0, ignore_index=True)\nframe_dw = frame_dw.sort_values(by='TimeStamp')\nframe_dw.to_csv('data/Concat_data/Dishwasher.csv')\nframe_sw = pd.concat(li_sw, axis=0, ignore_index=True)\nframe_sw = frame_sw.sort_values(by='TimeStamp')\nframe_sw.to_csv('data/Concat_data/Hydractiva_shower.csv')\nframe_kc = pd.concat(li_kc, axis=0, ignore_index=True)\nframe_kc = frame_kc.sort_values(by='TimeStamp')\nframe_kc.to_csv('data/Concat_data/Kitchen_optima_faucet.csv')\nframe_fc = pd.concat(li_wm, axis=0, ignore_index=True)\nframe_fc = frame_fc.sort_values(by='TimeStamp')\nframe_fc.to_csv('data/Concat_data/Optima_faucet.csv')\nframe_wm = pd.concat(li_fc, axis=0, ignore_index=True)\nframe_wm = frame_wm.sort_values(by='TimeStamp')\nframe_wm.to_csv('data/Concat_data/Washing_machine.csv')",
   "metadata": {
    "tags": [],
    "cell_id": "00004-f1f67354-1cad-4223-b905-6f506686245e",
    "deepnote_to_be_reexecuted": false,
    "source_hash": "e9ad36d8",
    "execution_start": 1637418536422,
    "execution_millis": 21111,
    "deepnote_cell_type": "code"
   },
   "outputs": [],
   "execution_count": null
  },
  {
   "cell_type": "code",
   "source": "",
   "metadata": {
    "cell_id": "00006-f4100a1c-ede3-4b96-b8c7-8b3732cedb77",
    "deepnote_to_be_reexecuted": false,
    "source_hash": "b623e53d",
    "execution_start": 1637418557541,
    "execution_millis": 2,
    "deepnote_cell_type": "visualization"
   },
   "outputs": [],
   "execution_count": null
  },
  {
   "cell_type": "code",
   "source": "total_hshld_yearly_flowtime = [[0 for j in range(5)] for i in range(len(data_list))]\ntotal_hshld_yearly_energy_consumption = [[0 for j in range(5)] for i in range(len(data_list))]\ntotal_hshld_yearly_water_consumption = [[0 for j in range(5)] for i in range(len(data_list))]\n\navg_hshld_monthly_flowtime = [[0 for j in range(5)] for i in range(len(data_list))]\navg_hshld_monthly_energy_consumption = [[0 for j in range(5)] for i in range(len(data_list))]\navg_hshld_monthly_water_consumption = [[0 for j in range(5)] for i in range(len(data_list))]\n\navg_person_monthly_flowtime_perDev = [0 for i in range(5)]\navg_person_monthly_energy_consumption_perDev = [0 for i in range(5)]\navg_person_monthly_water_consumption_perDev = [0 for i in range(5)]\n\n# 0 Dishwasher\n# 1 Shower\n# 2 Kitchen Faucet\n# 3 Faucet\n# 4 Washing Machine\n\nfor data in data_list:\n    if data == 'Concat_data':\n        continue\n    x = data.split(\"_\")\n    apart = int(x[0])\n    filename = 'data/' + data + '/Dishwasher.csv'\n    df = pd.read_csv(filename, index_col=None, header=0)\n    total_hshld_yearly_flowtime[apart][0] = df['FlowTime'].sum()\n    total_hshld_yearly_energy_consumption[apart][0] = df['Power_Consumption'].sum()\n    total_hshld_yearly_water_consumption[apart][0] = df['Consumption'].sum()\n\n    filename = 'data/' + data + '/Hydractiva_shower.csv'\n    df = pd.read_csv(filename, index_col=None, header=0)\n    total_hshld_yearly_flowtime[apart][1] = df['FlowTime'].sum()\n    total_hshld_yearly_energy_consumption[apart][1] = df['Power_Consumption'].sum()\n    total_hshld_yearly_water_consumption[apart][1] = df['Consumption'].sum()\n\n    filename = 'data/' + data + '/Kitchen_optima_faucet.csv'\n    df = pd.read_csv(filename, index_col=None, header=0)\n    total_hshld_yearly_flowtime[apart][2] = df['FlowTime'].sum()\n    total_hshld_yearly_energy_consumption[apart][2] = df['Power_Consumption'].sum()\n    total_hshld_yearly_water_consumption[apart][2] = df['Consumption'].sum()\n\n    filename = 'data/' + data + '/Optima_faucet.csv'\n    df = pd.read_csv(filename, index_col=None, header=0)\n    total_hshld_yearly_flowtime[apart][3] = df['FlowTime'].sum()\n    total_hshld_yearly_energy_consumption[apart][3] = df['Power_Consumption'].sum()\n    total_hshld_yearly_water_consumption[apart][3] = df['Consumption'].sum()\n\n    filename = 'data/' + data + '/Washing_machine.csv'\n    df = pd.read_csv(filename, index_col=None, header=0)\n    total_hshld_yearly_flowtime[apart][4] = df['FlowTime'].sum()\n    total_hshld_yearly_energy_consumption[apart][4] = df['Power_Consumption'].sum()\n    total_hshld_yearly_water_consumption[apart][4] = df['Consumption'].sum()\n\nprint(\"total_hshld_yearly_flowtime\", total_hshld_yearly_flowtime)\nprint(\"total_hshld_yearly_energy_consumption\", total_hshld_yearly_energy_consumption)\nprint(\"total_hshld_yearly_water_consumption\", total_hshld_yearly_water_consumption)\n\nfor i in range(len(data_list)):\n    for j in range(5):\n        avg_hshld_monthly_flowtime[i][j] = total_hshld_yearly_flowtime[i][j]/12\n        avg_hshld_monthly_energy_consumption[i][j] = total_hshld_yearly_energy_consumption[i][j]/12\n        avg_hshld_monthly_water_consumption[i][j] = total_hshld_yearly_water_consumption[i][j]/12\n\nprint(\"avg_hshld_monthly_flowtime\", avg_hshld_monthly_flowtime)\nprint(\"avg_hshld_monthly_energy_consumption\", avg_hshld_monthly_energy_consumption)\nprint(\"avg_hshld_monthly_water_consumption\", avg_hshld_monthly_water_consumption)\n\ntotal_sample_flowtime = 0\ntotal_sample_energy_consumption = 0\ntotal_sample_water_consumption = 0\n\nfor i in range(len(data_list)):\n    for j in range(5):\n        total_sample_flowtime += total_hshld_yearly_flowtime[i][j]\n        total_sample_energy_consumption += total_hshld_yearly_energy_consumption[i][j]\n        total_sample_water_consumption += total_hshld_yearly_water_consumption[i][j]\n\nfor j in range(5):\n    for i in range(len(data_list)):\n        avg_person_monthly_flowtime_perDev[j] += total_hshld_yearly_flowtime[i][j]\n        avg_person_monthly_energy_consumption_perDev[j] += total_hshld_yearly_energy_consumption[i][j]\n        avg_person_monthly_water_consumption_perDev[j] += total_hshld_yearly_water_consumption[i][j]\n    \n    avg_person_monthly_flowtime_perDev[j] /= total_people\n    avg_person_monthly_flowtime_perDev[j] /= 12\n    avg_person_monthly_energy_consumption_perDev[j] /= total_people\n    avg_person_monthly_energy_consumption_perDev[j] /= 12\n    avg_person_monthly_water_consumption_perDev[j] /= total_people\n    avg_person_monthly_water_consumption_perDev[j] /= 12\n\n\navg_person_yearly_flowtime = total_sample_flowtime/total_people\navg_person_yearly_energy_consumption = total_sample_energy_consumption/total_people\navg_person_yearly_water_consumption = total_sample_water_consumption/total_people\n\nprint(\"avg_person_monthly_flowtime_perDev\", avg_person_monthly_flowtime_perDev)\nprint(\"avg_person_monthly_energy_consumption_perDev\", avg_person_monthly_energy_consumption_perDev)\nprint(\"avg_person_monthly_water_consumption_perDev\", avg_person_monthly_water_consumption_perDev)\n\nprint(\"avg_person_yearly_flowtime\", avg_person_yearly_flowtime)\nprint(\"avg_person_yearly_energy_consumption\", avg_person_yearly_energy_consumption)\nprint(\"avg_person_yearly_water_consumption\", avg_person_yearly_water_consumption)\n\nprint(\"avg_person_monthly_flowtime\", avg_person_yearly_flowtime/12)\nprint(\"avg_person_monthly_energy_consumption\", avg_person_yearly_energy_consumption/12)\nprint(\"avg_person_monthly_water_consumption\", avg_person_yearly_water_consumption/12)\n\n# 0 Dishwasher\n# 1 Shower\n# 2 Kitchen Faucet\n# 3 Faucet\n# 4 Washing Machine\n\n\n",
   "metadata": {
    "tags": [],
    "cell_id": "00008-cb295c09-3f10-497f-b892-4390c987ee84",
    "deepnote_to_be_reexecuted": false,
    "source_hash": "43ef0ccf",
    "execution_start": 1637419214644,
    "execution_millis": 2294,
    "deepnote_output_heights": [
     192,
     192
    ],
    "deepnote_cell_type": "code"
   },
   "outputs": [
    {
     "name": "stdout",
     "text": "total_hshld_yearly_flowtime [[4816800, 145583.07524799998, 505602.26977139997, 518111.7624309, 3286800], [6588000, 190317.15195099998, 669509.181519, 682345.7381058, 4161600], [3207600, 98327.51966800001, 337364.1562627, 343651.45308029995, 2426400], [3661200, 95764.04701, 332522.6779571, 333287.3432778, 2203200], [3477600, 101760.969119, 337031.0583641, 343835.7905828, 2278800], [6490800, 189565.275434, 668537.7911829, 669448.2372403999, 4201200], [3812400, 97876.851693, 338620.7456295, 342136.922943, 2433600], [2138400, 51029.755612, 168570.04365140002, 166143.0044103, 1170000], [5162400, 142963.077517, 501596.15454809996, 512568.9102098, 3272400], [4698000, 144257.054913, 487252.7842383, 520129.78458529996, 3272400], [4978800, 150322.052964, 503560.8298049, 509423.1622971, 3132000], [1706400, 45028.858799, 167259.3769592, 175332.3508456, 1238400], [5292000, 149040.547302, 497530.94013500004, 508877.2122405, 3150000], [2073600, 51903.229257, 164876.1087009, 169364.3679305, 1206000], [4050000, 101600.723862, 332269.9931641, 339263.49127, 2070000], [3812400, 104799.14369999999, 330436.8577083, 337959.6717838, 2250000], [3801600, 98919.723145, 330205.99942580005, 337905.4324541, 2293200], [5216400, 145044.474602, 501530.3569032, 518734.98589199997, 3211200], [6210000, 183521.27317200002, 668185.578747, 690203.8771066, 4147200], [6436800, 190874.040709, 663775.727397, 669010.6410712, 4190400], [0, 0, 0, 0, 0]]\ntotal_hshld_yearly_energy_consumption [[401.02996719, 909.2909903300001, 1144.9042345002483, 1095.662402164387, 1042.53327434], [548.9924556599999, 1194.7020607299999, 1500.04755068954, 1442.9820586563392, 1370.4365943], [267.10247747000005, 612.11460415, 756.3240876075665, 731.1574392196484, 761.06329352], [304.84997531, 605.2838766899999, 755.8795688556049, 703.0137199961721, 690.3632950599999], [290.72747742, 644.12348767, 761.460179270272, 718.967852651537, 754.3199572999999], [538.3524559900001, 1192.8158425799998, 1522.2446200259399, 1421.3766021792212, 1373.84325686], [315.92747424, 614.17549785, 757.1846927384839, 733.178341743013, 761.0282953999999], [177.02998530999997, 330.49079161, 378.719876136165, 343.93029313226003, 393.69164337999996], [431.304965, 904.8300114, 1132.207948005046, 1072.6650285148849, 1013.0866137400001], [392.12246860000005, 900.7385539100001, 1091.463220992871, 1115.5543902605618, 1042.47494156], [415.72996723, 941.68735257, 1136.654788710818, 1084.183557495841, 1026.47994078], [142.08248872999997, 283.21723693499996, 377.5640609275801, 370.272687542869, 398.28831258], [441.8749647000001, 935.7257987800001, 1109.65233433521, 1073.3203210965019, 1026.7016100800001], [172.44498599000002, 327.06182134000005, 373.1931172574, 358.731589632239, 411.41331], [336.71747279, 641.78285301, 748.7354910292049, 722.764260021673, 684.77496032], [318.32497445, 646.80034099, 750.3742086777839, 721.3950323206317, 732.94662816], [316.78497453, 625.41441716, 753.386919728923, 718.9705567007915, 738.6632938800001], [435.22496516, 919.07964858, 1131.476486504487, 1103.0822844790007, 986.4282778800001], [517.45745884, 1145.74994107, 1530.480090883614, 1461.422638387041, 1336.40492772], [535.86745649, 1190.51956926, 1512.3603417471927, 1398.0315810706204, 1368.67492532], [0, 0, 0, 0, 0]]\ntotal_hshld_yearly_water_consumption [[6690, 26478.984702, 42194.88797921, 51811.17625926, 26200], [9150, 34807.8130119, 55696.884861497005, 68234.57380653, 32620], [4455, 17968.4650809, 27931.535195828998, 34365.145310930006, 19300], [5085, 17554.5691401, 27928.253467141003, 33328.73433473, 17660], [4830, 18709.885939400003, 27989.687104870998, 34383.57904735, 18340], [9015, 34836.6078447, 55488.319404874004, 66944.82374756999, 34050], [5295, 17869.642281300003, 27980.312069398, 34213.692309980004, 18830], [2970, 9401.445656099999, 14009.802493404, 16614.30043597, 9890], [7170, 26337.216503800002, 41927.607456961996, 51256.890988529995, 25980], [6525, 26416.7367446, 40468.180941165, 52012.97846721, 26370], [6915, 27576.5464104, 41825.289246928, 50942.31624878, 25990], [2370, 8295.4704607, 14030.384492986, 17533.23507485, 9580], [7350, 27401.1313297, 41384.361973063, 50887.721289559995, 25130], [2880, 9438.272952899999, 13696.17101767, 16936.436770400003, 9820], [5625, 18540.088892699998, 27583.388789004, 33926.349105, 17650], [5295, 19118.409845299997, 27549.777933726, 33795.9671812, 18160], [5280, 18155.2928594, 27863.894395063002, 33790.54327965, 17730], [7245, 26607.477643600003, 41985.401074697, 51873.498521420006, 24960], [8625, 33499.6856022, 56051.451894422, 69020.3877255, 32550], [8940, 34971.3381635, 55396.803223246, 66901.06409300001, 33660], [0, 0, 0, 0, 0]]\navg_hshld_monthly_flowtime [[401400.0, 12131.922937333331, 42133.52248095, 43175.980202575, 273900.0], [549000.0, 15859.76266258333, 55792.43179325, 56862.14484215, 346800.0], [267300.0, 8193.959972333334, 28113.67968855833, 28637.621090024997, 202200.0], [305100.0, 7980.337250833333, 27710.223163091665, 27773.945273150002, 183600.0], [289800.0, 8480.080759916667, 28085.921530341668, 28652.982548566666, 189900.0], [540900.0, 15797.106286166667, 55711.482598575, 55787.35310336666, 350100.0], [317700.0, 8156.40430775, 28218.395469125, 28511.410245249997, 202800.0], [178200.0, 4252.479634333334, 14047.503637616668, 13845.250367525, 97500.0], [430200.0, 11913.589793083333, 41799.679545675, 42714.07585081667, 272700.0], [391500.0, 12021.42124275, 40604.398686525, 43344.14871544166, 272700.0], [414900.0, 12526.837747, 41963.402483741665, 42451.930191425, 261000.0], [142200.0, 3752.4048999166666, 13938.281413266666, 14611.029237133334, 103200.0], [441000.0, 12420.045608499999, 41460.91167791667, 42406.434353375, 262500.0], [172800.0, 4325.26910475, 13739.675725075, 14113.697327541668, 100500.0], [337500.0, 8466.7269885, 27689.166097008332, 28271.957605833333, 172500.0], [317700.0, 8733.261975, 27536.404809025, 28163.305981983332, 187500.0], [316800.0, 8243.310262083332, 27517.16661881667, 28158.786037841666, 191100.0], [434700.0, 12087.039550166666, 41794.1964086, 43227.915491, 267600.0], [517500.0, 15293.439431, 55682.13156225, 57516.989758883334, 345600.0], [536400.0, 15906.170059083333, 55314.643949749996, 55750.88675593334, 349200.0], [0.0, 0.0, 0.0, 0.0, 0.0]]\navg_hshld_monthly_energy_consumption [[33.4191639325, 75.77424919416667, 95.40868620835403, 91.30520018036559, 86.87777286166666], [45.74937130499999, 99.55850506083333, 125.00396255746166, 120.24850488802826, 114.203049525], [22.258539789166672, 51.00955034583333, 63.027007300630544, 60.92978660163737, 63.42194112666667], [25.404164609166667, 50.440323057499995, 62.98996407130041, 58.584476666347676, 57.53027458833333], [24.227289785, 53.676957305833334, 63.45501493918933, 59.913987720961416, 62.85999644166666], [44.86270466583334, 99.40132021499998, 126.85371833549499, 118.44805018160177, 114.48693807166667], [26.327289519999997, 51.181291487500005, 63.09872439487366, 61.09819514525108, 63.41902461666666], [14.752498775833331, 27.54089930083333, 31.55998967801375, 28.66085776102167, 32.80763694833333], [35.94208041666666, 75.40250095, 94.35066233375385, 89.3887523762404, 84.42388447833333], [32.67687238333334, 75.06154615916667, 90.95526841607257, 92.96286585504681, 86.87291179666666], [34.64416393583333, 78.47394604750001, 94.72123239256815, 90.34862979132008, 85.53999506500001], [11.840207394166663, 23.601436411249995, 31.46367174396501, 30.856057295239083, 33.190692715000004], [36.82291372500001, 77.97714989833334, 92.4710278612675, 89.44336009137515, 85.55846750666667], [14.370415499166668, 27.25515177833334, 31.099426438116666, 29.894299136019914, 34.284442500000004], [28.059789399166664, 53.481904417500004, 62.39462425243374, 60.23035500180608, 57.06458002666667], [26.527081204166667, 53.90002841583333, 62.531184056482, 60.116252693385974, 61.078885680000006], [26.3987478775, 52.11786809666666, 62.78224331074358, 59.91421305839929, 61.55527449000001], [36.268747096666665, 76.589970715, 94.28970720870724, 91.9235237065834, 82.20235649000001], [43.12145490333333, 95.47916175583333, 127.5400075736345, 121.78521986558674, 111.36707731], [44.655621374166664, 99.209964105, 126.03002847893272, 116.50263175588503, 114.05624377666668], [0.0, 0.0, 0.0, 0.0, 0.0]]\navg_hshld_monthly_water_consumption [[557.5, 2206.5820585, 3516.2406649341665, 4317.598021605, 2183.3333333333335], [762.5, 2900.651084325, 4641.407071791417, 5686.214483877499, 2718.3333333333335], [371.25, 1497.3720900750002, 2327.62793298575, 2863.7621092441673, 1608.3333333333333], [423.75, 1462.880761675, 2327.3544555950834, 2777.3945278941665, 1471.6666666666667], [402.5, 1559.1571616166668, 2332.4739254059164, 2865.2982539458335, 1528.3333333333333], [751.25, 2903.0506537250003, 4624.026617072834, 5578.735312297499, 2837.5], [441.25, 1489.1368567750003, 2331.6926724498335, 2851.141025831667, 1569.1666666666667], [247.5, 783.4538046749999, 1167.483541117, 1384.5250363308332, 824.1666666666666], [597.5, 2194.7680419833337, 3493.9672880801663, 4271.407582377499, 2165.0], [543.75, 2201.3947287166666, 3372.3484117637504, 4334.4148722675, 2197.5], [576.25, 2298.0455342, 3485.4407705773333, 4245.193020731666, 2165.8333333333335], [197.5, 691.2892050583333, 1169.1987077488334, 1461.1029229041667, 798.3333333333334], [612.5, 2283.4276108083336, 3448.6968310885836, 4240.643440796666, 2094.1666666666665], [240.0, 786.5227460749999, 1141.3475848058333, 1411.369730866667, 818.3333333333334], [468.75, 1545.007407725, 2298.615732417, 2827.19575875, 1470.8333333333333], [441.25, 1593.2008204416663, 2295.8148278105, 2816.3305984333333, 1513.3333333333333], [440.0, 1512.9410716166667, 2321.9911995885836, 2815.8786066375, 1477.5], [603.75, 2217.2898036333336, 3498.7834228914166, 4322.791543451667, 2080.0], [718.75, 2791.64046685, 4670.954324535167, 5751.698977125, 2712.5], [745.0, 2914.2781802916666, 4616.400268603834, 5575.088674416667, 2805.0], [0.0, 0.0, 0.0, 0.0, 0.0]]\navg_person_monthly_flowtime_perDev [143188.23529411765, 4049.8347151584962, 13899.082732140361, 14195.644019212094, 90841.17647058824]\navg_person_monthly_energy_consumption_perDev [11.928021913562091, 25.433994602312087, 31.41227748141169, 30.050102348472606, 29.270616588529407]\navg_person_monthly_water_consumption_perDev [198.87254901960785, 741.8056880150326, 1158.4679657110394, 1419.5644019565689, 726.2581699346406]\navg_person_yearly_flowtime 3194087.678774602\navg_person_yearly_energy_consumption 1537.1401552114542\navg_person_yearly_water_consumption 50939.62529564266\navg_person_monthly_flowtime 266173.97323121683\navg_person_monthly_energy_consumption 128.09501293428784\navg_person_monthly_water_consumption 4244.968774636888\n",
     "output_type": "stream"
    }
   ],
   "execution_count": null
  },
  {
   "cell_type": "markdown",
   "source": "<a style='text-decoration:none;line-height:16px;display:flex;color:#5B5B62;padding:10px;justify-content:end;' href='https://deepnote.com?utm_source=created-in-deepnote-cell&projectId=1a3b35bf-0652-423c-a6b7-6d55ba0a0a59' target=\"_blank\">\n<img alt='Created in deepnote.com' style='display:inline;max-height:16px;margin:0px;margin-right:7.5px;' src='data:image/svg+xml;base64,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' > </img>\nCreated in <span style='font-weight:600;margin-left:4px;'>Deepnote</span></a>",
   "metadata": {
    "tags": [],
    "created_in_deepnote_cell": true,
    "deepnote_cell_type": "markdown"
   }
  }
 ],
 "nbformat": 4,
 "nbformat_minor": 2,
 "metadata": {
  "orig_nbformat": 2,
  "deepnote": {
   "is_reactive": false
  },
  "deepnote_notebook_id": "1efbddb4-da53-4a2e-bbe4-b0081a0c52fb",
  "deepnote_execution_queue": []
 }
}